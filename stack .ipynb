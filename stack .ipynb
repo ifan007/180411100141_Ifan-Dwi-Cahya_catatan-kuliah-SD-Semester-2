{
 "cells": [
  {
   "cell_type": "code",
   "execution_count": 1,
   "metadata": {},
   "outputs": [
    {
     "name": "stdout",
     "output_type": "stream",
     "text": [
      "<bound method Stack.isEmpty of <__main__.Stack object at 0x0000000004D6A470>>\n",
      "true\n",
      "true\n",
      "hello\n"
     ]
    }
   ],
   "source": [
    "#stack\n",
    "class Stack: #class\n",
    "    def __init__(self): #konstruktor #__init__ (inisiall)\n",
    "        self.items=[]\n",
    "    def isEmpty(self): #method\n",
    "        return self.items == []\n",
    "    def push(self,item):\n",
    "        self.items.append(item)\n",
    "    def pop(self):\n",
    "        return self.items.pop()\n",
    "    def peek(self):\n",
    "        return self.items[len(self.items)-1]\n",
    "    def size(self):\n",
    "        return len(self.items)\n",
    "    \n",
    "s=Stack()\n",
    "s.push('hello')\n",
    "s.push('true')\n",
    "print(s.isEmpty)\n",
    "print(s.peek())\n",
    "while not s.isEmpty():\n",
    "    print(s.pop())"
   ]
  },
  {
   "cell_type": "code",
   "execution_count": 22,
   "metadata": {},
   "outputs": [
    {
     "name": "stdout",
     "output_type": "stream",
     "text": [
      "a\n",
      "r\n",
      "u\n",
      "p\n",
      "a\n"
     ]
    }
   ],
   "source": [
    "#stack 2\n",
    "class Stack: #class\n",
    "    def __init__(self): #konstruktor #__init__ (inisiall)\n",
    "        self.items=[]\n",
    "    def isEmpty(self): #method\n",
    "        return self.items == []\n",
    "    def push(self,item):\n",
    "        self.items.append(item)\n",
    "    def pop(self):\n",
    "        return self.items.pop()\n",
    "    def peek(self):\n",
    "        return self.items[len(self.items)-1]\n",
    "    def size(self):\n",
    "        return len(self.items)\n",
    "    \n",
    "s=Stack()\n",
    "s.push('S')\n",
    "s.push('i')\n",
    "s.push('n')\n",
    "s.push('g')\n",
    "s.push('a')\n",
    "s.push('p')\n",
    "s.push('u')\n",
    "s.push('r')\n",
    "s.push('a')\n",
    "while not s.isEmpty() and s.peek() != 'g':\n",
    "    print(s.pop())"
   ]
  },
  {
   "cell_type": "code",
   "execution_count": 4,
   "metadata": {},
   "outputs": [
    {
     "name": "stdout",
     "output_type": "stream",
     "text": [
      "3\n",
      "4\n",
      "dog\n",
      "True\n"
     ]
    }
   ],
   "source": [
    "#Queue\n",
    "class Queue: #class\n",
    "    def __init__(self): #konstruktor #__init__ (inisiall)\n",
    "        self.items=[]\n",
    "    def isEmpty(self): #method\n",
    "        return self.items == []\n",
    "    def enqueue(self,item):\n",
    "        self.items.insert(0,item)\n",
    "    def dequeue(self):\n",
    "        return self.items.pop()\n",
    "    def size(self):\n",
    "        return len(self.items)\n",
    "    \n",
    "q=Queue()\n",
    "q.enqueue(4)\n",
    "q.enqueue('dog')\n",
    "q.enqueue(True)\n",
    "print(q.size())\n",
    "print(q.dequeue())\n",
    "while not q.isEmpty():\n",
    "    print(q.dequeue())"
   ]
  },
  {
   "cell_type": "code",
   "execution_count": 8,
   "metadata": {},
   "outputs": [
    {
     "name": "stdout",
     "output_type": "stream",
     "text": [
      "masukkan jumlah orang yang ingin ada dipermainan1\n",
      "masukkan nama orang yang ingin ada didalam antrianjaki\n",
      "orang yang berada didalam antrian <__main__.Queue object at 0x0000000004EB7630>\n",
      "masukkan nama orang yang ingin ditangkapjaki\n"
     ]
    },
    {
     "ename": "KeyboardInterrupt",
     "evalue": "",
     "output_type": "error",
     "traceback": [
      "\u001b[1;31m---------------------------------------------------------------------------\u001b[0m",
      "\u001b[1;31mKeyboardInterrupt\u001b[0m                         Traceback (most recent call last)",
      "\u001b[1;32m<ipython-input-8-e43392f053f6>\u001b[0m in \u001b[0;36m<module>\u001b[1;34m()\u001b[0m\n\u001b[0;32m     21\u001b[0m \u001b[0mfound\u001b[0m \u001b[1;33m=\u001b[0m \u001b[1;32mFalse\u001b[0m\u001b[1;33m\u001b[0m\u001b[0m\n\u001b[0;32m     22\u001b[0m \u001b[1;32mwhile\u001b[0m \u001b[1;32mnot\u001b[0m \u001b[0mfound\u001b[0m\u001b[1;33m:\u001b[0m\u001b[1;33m\u001b[0m\u001b[0m\n\u001b[1;32m---> 23\u001b[1;33m     \u001b[1;32mfor\u001b[0m \u001b[0mi\u001b[0m \u001b[1;32min\u001b[0m \u001b[0mrange\u001b[0m\u001b[1;33m(\u001b[0m\u001b[0mq\u001b[0m\u001b[1;33m.\u001b[0m\u001b[0msize\u001b[0m\u001b[1;33m(\u001b[0m\u001b[1;33m)\u001b[0m\u001b[1;33m,\u001b[0m \u001b[1;36m0\u001b[0m\u001b[1;33m,\u001b[0m \u001b[1;33m-\u001b[0m\u001b[1;36m1\u001b[0m\u001b[1;33m)\u001b[0m\u001b[1;33m:\u001b[0m\u001b[1;33m\u001b[0m\u001b[0m\n\u001b[0m\u001b[0;32m     24\u001b[0m         \u001b[1;32mif\u001b[0m \u001b[0mi\u001b[0m \u001b[1;33m==\u001b[0m \u001b[0mcari\u001b[0m\u001b[1;33m:\u001b[0m\u001b[1;33m\u001b[0m\u001b[0m\n\u001b[0;32m     25\u001b[0m             \u001b[0mprint\u001b[0m\u001b[1;33m(\u001b[0m\u001b[1;34m'selamat anda menemukannya'\u001b[0m\u001b[1;33m)\u001b[0m\u001b[1;33m\u001b[0m\u001b[0m\n",
      "\u001b[1;31mKeyboardInterrupt\u001b[0m: "
     ]
    }
   ],
   "source": [
    "#Queue\n",
    "class Queue: #class\n",
    "    def __init__(self): #konstruktor #__init__ (inisiall)\n",
    "        self.items=[]\n",
    "    def isEmpty(self): #method\n",
    "        return self.items == []\n",
    "    def enqueue(self,item):\n",
    "        self.items.insert(0,item)\n",
    "    def dequeue(self):\n",
    "        return self.items.pop()\n",
    "    def size(self):\n",
    "        return len(self.items)\n",
    "q = Queue()\n",
    "jumlah = int(input('masukkan jumlah orang yang ingin ada dipermainan'))\n",
    "for i in range(jumlah):\n",
    "    nama = input('masukkan nama orang yang ingin ada didalam antrian')\n",
    "    q.enqueue(nama)\n",
    "print('orang yang berada didalam antrian',q)\n",
    "cari = input('masukkan nama orang yang ingin ditangkap')\n",
    "loop = 0\n",
    "found = False\n",
    "while not found:\n",
    "    for i in range(q.size(), 0, -1):\n",
    "        if i == cari:\n",
    "            print('selamat anda menemukannya')\n",
    "            found = True\n",
    "        else:\n",
    "            loop += 1\n",
    "            masukan = q.dequeue()\n",
    "            q.enqueue(masukan)\n",
    "            found = False\n"
   ]
  },
  {
   "cell_type": "code",
   "execution_count": null,
   "metadata": {},
   "outputs": [],
   "source": []
  }
 ],
 "metadata": {
  "kernelspec": {
   "display_name": "Python 3",
   "language": "python",
   "name": "python3"
  },
  "language_info": {
   "codemirror_mode": {
    "name": "ipython",
    "version": 3
   },
   "file_extension": ".py",
   "mimetype": "text/x-python",
   "name": "python",
   "nbconvert_exporter": "python",
   "pygments_lexer": "ipython3",
   "version": "3.6.5"
  }
 },
 "nbformat": 4,
 "nbformat_minor": 2
}
